{
 "cells": [
  {
   "cell_type": "code",
   "execution_count": 1,
   "id": "b50a040c",
   "metadata": {},
   "outputs": [],
   "source": [
    "import torch\n",
    "import torch.nn as nn\n",
    "import torch.nn.functional as F\n",
    "import torch.optim as opt\n",
    "import pickle\n",
    "import argparse\n",
    "import sklearn\n",
    "from sklearn.decomposition import PCA\n",
    "from sklearn.preprocessing import StandardScaler\n",
    "from sklearn.metrics import confusion_matrix, classification_report\n",
    "import matplotlib.pyplot as plt\n",
    "import mglearn\n",
    "import numpy as np"
   ]
  },
  {
   "cell_type": "code",
   "execution_count": 2,
   "id": "816ab3a4",
   "metadata": {},
   "outputs": [],
   "source": [
    "def data_analyze(train_data, train_label, test_data, test_label):\n",
    "    new_train_data = None\n",
    "    new_test_data = None\n",
    "    print(train_data.shape)\n",
    "    plt.figure()\n",
    "    plt.scatter(range(len(train_data[0])), train_data[0], cmap = 'coolwarm')\n",
    "    plt.show()\n",
    "    print(test_data.shape)\n",
    "    plt.figure()\n",
    "    plt.scatter(range(len(test_data[0])), test_data[0], cmap = 'coolwarm')\n",
    "    plt.show()\n",
    "    print(\"---------------------------------------------\")\n",
    "    print(train_data[0].shape)\n",
    "    print(list(np.unique(train_label)))\n",
    "    print(\"---------------------------------------------\")\n",
    "    print(train_data[:30])\n",
    "    print(train_label[:30])\n",
    "    print(\"---------------------------------------------\")\n",
    "    print(\"PCA result\")\n",
    "    from sklearn.decomposition import PCA\n",
    "    for i in range(0,200):\n",
    "        pca = PCA(n_components=i) # 주성분을 몇개로 할지 결정\n",
    "        printcipalComponents = pca.fit_transform(train_data)\n",
    "        print(f\"PCA:{i} 일 때, 설명 가능한 분산량 ::: {sum(pca.explained_variance_ratio_)}\")\n",
    "    \"\"\"print(\"---------------------------------------------\")\n",
    "    print(\"LDA result\")\n",
    "    from sklearn.discriminant_analysis import LinearDiscriminantAnalysis\n",
    "    lda = LinearDiscriminantAnalysis(n_components=1)\n",
    "    # train LDA start\n",
    "    new_train_data = lda.fit_transform(train_data, train_label)\n",
    "    # test LDA start\n",
    "    #new_test_data = lda.fit_transform(test_data, test_label)\n",
    "    new_test_data = lda.transform(test_data)\n",
    "    print(new_train_data.shape)\n",
    "    plt.figure()\n",
    "    plt.scatter(range(len(new_train_data)), new_train_data, c = train_label, cmap = 'coolwarm')\n",
    "    plt.show()\n",
    "    \n",
    "    print(new_test_data.shape)\n",
    "    plt.figure()\n",
    "    plt.scatter(range(len(new_test_data)), new_test_data, c = test_label, cmap = 'coolwarm')\n",
    "    plt.show()\n",
    "    print(\"---------------------------------------------\")\n",
    "    \n",
    "    return new_train_data, new_test_data\"\"\""
   ]
  },
  {
   "cell_type": "code",
   "execution_count": 3,
   "id": "2fd76076",
   "metadata": {},
   "outputs": [],
   "source": [
    "from sklearn.preprocessing import StandardScaler\n",
    "def make_dataset(data_path):\n",
    "    with open(data_path, 'rb') as handle:\n",
    "        train_data = pickle.load(handle)\n",
    "        train_label = pickle.load(handle)\n",
    "        test_data = pickle.load(handle)\n",
    "        test_label = pickle.load(handle)\n",
    "\n",
    "    data_analyze(train_data, train_label, test_data, test_label)\n",
    "    return train_data, test_data, train_label, test_label"
   ]
  },
  {
   "cell_type": "code",
   "execution_count": 4,
   "id": "56c44507",
   "metadata": {
    "scrolled": true
   },
   "outputs": [
    {
     "name": "stdout",
     "output_type": "stream",
     "text": [
      "(700, 200)\n"
     ]
    },
    {
     "data": {
      "image/png": "[encoded data removed]",
      "text/plain": [
       "<Figure size 432x288 with 1 Axes>"
      ]
     },
     "metadata": {
      "needs_background": "light"
     },
     "output_type": "display_data"
    },
    {
     "name": "stdout",
     "output_type": "stream",
     "text": [
      "(350, 200)\n"
     ]
    },
    {
     "data": {
      "image/png": "[encoded data removed]",
      "text/plain": [
       "<Figure size 432x288 with 1 Axes>"
      ]
     },
     "metadata": {
      "needs_background": "light"
     },
     "output_type": "display_data"
    },
    {
     "name": "stdout",
     "output_type": "stream",
     "text": [
      "---------------------------------------------\n",
      "(200,)\n",
      "[0.0, 1.0]\n",
      "---------------------------------------------\n",
      "[[ 83.79198844  89.51681425  51.68454166 ...  47.20093522  50.86270481\n",
      "   32.55305683]\n",
      " [ 56.55531428  58.36775366  29.36965321 ...  25.02209264  65.9722279\n",
      "  105.84995523]\n",
      " [ 75.38613976  43.36377989  32.2630694  ...  22.05272174   7.41155015\n",
      "   22.75466934]\n",
      " ...\n",
      " [ 79.0680563    9.17853072 100.50994516 ...  76.68848523  19.57855111\n",
      "   56.86249482]\n",
      " [ 36.25779557  23.33756504  41.32213399 ...  83.51409889   3.56326799\n",
      "    2.41082463]\n",
      " [ 91.98124007  81.86348764  63.04656696 ...   3.67167062  22.84609116\n",
      "   10.0047512 ]]\n",
      "[1. 0. 1. 1. 1. 1. 1. 1. 0. 1. 1. 1. 1. 1. 1. 1. 0. 1. 0. 1. 1. 1. 0. 1.\n",
      " 1. 1. 1. 1. 0. 1.]\n",
      "---------------------------------------------\n",
      "PCA result\n",
      "PCA:0 일 때, 설명 가능한 분산량 ::: 0\n",
      "PCA:1 일 때, 설명 가능한 분산량 ::: 0.01157471527722451\n",
      "PCA:2 일 때, 설명 가능한 분산량 ::: 0.022437439779945653\n",
      "PCA:3 일 때, 설명 가능한 분산량 ::: 0.03367507924451039\n",
      "PCA:4 일 때, 설명 가능한 분산량 ::: 0.04446110488607376\n",
      "PCA:5 일 때, 설명 가능한 분산량 ::: 0.054939243249546736\n",
      "PCA:6 일 때, 설명 가능한 분산량 ::: 0.06526808907352066\n",
      "PCA:7 일 때, 설명 가능한 분산량 ::: 0.07555756673233936\n",
      "PCA:8 일 때, 설명 가능한 분산량 ::: 0.08521842261341975\n",
      "PCA:9 일 때, 설명 가능한 분산량 ::: 0.09572078136728594\n",
      "PCA:10 일 때, 설명 가능한 분산량 ::: 0.10560863299631403\n",
      "PCA:11 일 때, 설명 가능한 분산량 ::: 0.11542244003720126\n",
      "PCA:12 일 때, 설명 가능한 분산량 ::: 0.1251351020351318\n",
      "PCA:13 일 때, 설명 가능한 분산량 ::: 0.13488808983334222\n",
      "PCA:14 일 때, 설명 가능한 분산량 ::: 0.14470083624402727\n",
      "PCA:15 일 때, 설명 가능한 분산량 ::: 0.1542609728420967\n",
      "PCA:16 일 때, 설명 가능한 분산량 ::: 0.16374472703885667\n",
      "PCA:17 일 때, 설명 가능한 분산량 ::: 0.17293263709730114\n",
      "PCA:18 일 때, 설명 가능한 분산량 ::: 0.18206790165875897\n",
      "PCA:19 일 때, 설명 가능한 분산량 ::: 0.1916554251494614\n",
      "PCA:20 일 때, 설명 가능한 분산량 ::: 0.19558412629600827\n",
      "PCA:21 일 때, 설명 가능한 분산량 ::: 0.20503593294960423\n",
      "PCA:22 일 때, 설명 가능한 분산량 ::: 0.2134583743599568\n",
      "PCA:23 일 때, 설명 가능한 분산량 ::: 0.22196735292200487\n",
      "PCA:24 일 때, 설명 가능한 분산량 ::: 0.2311832176026503\n",
      "PCA:25 일 때, 설명 가능한 분산량 ::: 0.2403417685881884\n",
      "PCA:26 일 때, 설명 가능한 분산량 ::: 0.24857979734818905\n",
      "PCA:27 일 때, 설명 가능한 분산량 ::: 0.25699432470473366\n",
      "PCA:28 일 때, 설명 가능한 분산량 ::: 0.26580276738033265\n",
      "PCA:29 일 때, 설명 가능한 분산량 ::: 0.27357645526546964\n",
      "PCA:30 일 때, 설명 가능한 분산량 ::: 0.28277137570583744\n",
      "PCA:31 일 때, 설명 가능한 분산량 ::: 0.289934575953319\n",
      "PCA:32 일 때, 설명 가능한 분산량 ::: 0.298539777373467\n",
      "PCA:33 일 때, 설명 가능한 분산량 ::: 0.3062017282548513\n",
      "PCA:34 일 때, 설명 가능한 분산량 ::: 0.31417821776860433\n",
      "PCA:35 일 때, 설명 가능한 분산량 ::: 0.3213961231402615\n",
      "PCA:36 일 때, 설명 가능한 분산량 ::: 0.33101029255229475\n",
      "PCA:37 일 때, 설명 가능한 분산량 ::: 0.3380227976697913\n",
      "PCA:38 일 때, 설명 가능한 분산량 ::: 0.346006063875434\n",
      "PCA:39 일 때, 설명 가능한 분산량 ::: 0.3539624673791125\n",
      "PCA:40 일 때, 설명 가능한 분산량 ::: 0.36161393240096357\n",
      "PCA:41 일 때, 설명 가능한 분산량 ::: 0.368946574174869\n",
      "PCA:42 일 때, 설명 가능한 분산량 ::: 0.37608807193652927\n",
      "PCA:43 일 때, 설명 가능한 분산량 ::: 0.3846822351184343\n",
      "PCA:44 일 때, 설명 가능한 분산량 ::: 0.39093272731460127\n",
      "PCA:45 일 때, 설명 가능한 분산량 ::: 0.3992487284768884\n",
      "PCA:46 일 때, 설명 가능한 분산량 ::: 0.40605709067512585\n",
      "PCA:47 일 때, 설명 가능한 분산량 ::: 0.41330385613545184\n",
      "PCA:48 일 때, 설명 가능한 분산량 ::: 0.42013881646183826\n",
      "PCA:49 일 때, 설명 가능한 분산량 ::: 0.4278609862604329\n",
      "PCA:50 일 때, 설명 가능한 분산량 ::: 0.4346087482800315\n",
      "PCA:51 일 때, 설명 가능한 분산량 ::: 0.4421914424650501\n",
      "PCA:52 일 때, 설명 가능한 분산량 ::: 0.44830978327204096\n",
      "PCA:53 일 때, 설명 가능한 분산량 ::: 0.45539281186647723\n",
      "PCA:54 일 때, 설명 가능한 분산량 ::: 0.46215525009385616\n",
      "PCA:55 일 때, 설명 가능한 분산량 ::: 0.4694480302243712\n",
      "PCA:56 일 때, 설명 가능한 분산량 ::: 0.47544911851695737\n",
      "PCA:57 일 때, 설명 가능한 분산량 ::: 0.48246975305052675\n",
      "PCA:58 일 때, 설명 가능한 분산량 ::: 0.4888837141021046\n",
      "PCA:59 일 때, 설명 가능한 분산량 ::: 0.4953789579392088\n",
      "PCA:60 일 때, 설명 가능한 분산량 ::: 0.501581701688479\n",
      "PCA:61 일 때, 설명 가능한 분산량 ::: 0.5074859968609332\n",
      "PCA:62 일 때, 설명 가능한 분산량 ::: 0.5147208077633076\n",
      "PCA:63 일 때, 설명 가능한 분산량 ::: 0.5200715854855196\n",
      "PCA:64 일 때, 설명 가능한 분산량 ::: 0.5276182506563635\n",
      "PCA:65 일 때, 설명 가능한 분산량 ::: 0.5336294292407516\n",
      "PCA:66 일 때, 설명 가능한 분산량 ::: 0.5394535140539956\n",
      "PCA:67 일 때, 설명 가능한 분산량 ::: 0.5456907131854987\n",
      "PCA:68 일 때, 설명 가능한 분산량 ::: 0.5516837634918744\n",
      "PCA:69 일 때, 설명 가능한 분산량 ::: 0.5577655026406213\n",
      "PCA:70 일 때, 설명 가능한 분산량 ::: 0.5639248889379676\n",
      "PCA:71 일 때, 설명 가능한 분산량 ::: 0.5691170001808125\n",
      "PCA:72 일 때, 설명 가능한 분산량 ::: 0.5753243818656523\n",
      "PCA:73 일 때, 설명 가능한 분산량 ::: 0.5808429064750652\n",
      "PCA:74 일 때, 설명 가능한 분산량 ::: 0.5865851535041672\n",
      "PCA:75 일 때, 설명 가능한 분산량 ::: 0.5925318180072614\n",
      "PCA:76 일 때, 설명 가능한 분산량 ::: 0.5977496962339736\n",
      "PCA:77 일 때, 설명 가능한 분산량 ::: 0.6047498899711938\n",
      "PCA:78 일 때, 설명 가능한 분산량 ::: 0.6097556102995002\n",
      "PCA:79 일 때, 설명 가능한 분산량 ::: 0.6149033554373112\n",
      "PCA:80 일 때, 설명 가능한 분산량 ::: 0.6201191846473163\n",
      "PCA:81 일 때, 설명 가능한 분산량 ::: 0.6257918116742888\n",
      "PCA:82 일 때, 설명 가능한 분산량 ::: 0.6316475797918936\n",
      "PCA:83 일 때, 설명 가능한 분산량 ::: 0.6365227235183595\n",
      "PCA:84 일 때, 설명 가능한 분산량 ::: 0.6418508286232113\n",
      "PCA:85 일 때, 설명 가능한 분산량 ::: 0.6467978437267694\n",
      "PCA:86 일 때, 설명 가능한 분산량 ::: 0.6523972411907507\n",
      "PCA:87 일 때, 설명 가능한 분산량 ::: 0.6576852121308082\n",
      "PCA:88 일 때, 설명 가능한 분산량 ::: 0.6631600862845893\n",
      "PCA:89 일 때, 설명 가능한 분산량 ::: 0.6670976401761453\n",
      "PCA:90 일 때, 설명 가능한 분산량 ::: 0.6730203294187965\n",
      "PCA:91 일 때, 설명 가능한 분산량 ::: 0.6778189444790531\n",
      "PCA:92 일 때, 설명 가능한 분산량 ::: 0.6831829078858453\n",
      "PCA:93 일 때, 설명 가능한 분산량 ::: 0.688172488844485\n",
      "PCA:94 일 때, 설명 가능한 분산량 ::: 0.6929463229465033\n",
      "PCA:95 일 때, 설명 가능한 분산량 ::: 0.6971849011824162\n",
      "PCA:96 일 때, 설명 가능한 분산량 ::: 0.7022822344321037\n",
      "PCA:97 일 때, 설명 가능한 분산량 ::: 0.7065043616177163\n",
      "PCA:98 일 때, 설명 가능한 분산량 ::: 0.711662089356541\n",
      "PCA:99 일 때, 설명 가능한 분산량 ::: 0.7157274364276962\n",
      "PCA:100 일 때, 설명 가능한 분산량 ::: 0.7211648944910309\n",
      "PCA:101 일 때, 설명 가능한 분산량 ::: 0.7252918638441209\n",
      "PCA:102 일 때, 설명 가능한 분산량 ::: 0.7298483295086395\n",
      "PCA:103 일 때, 설명 가능한 분산량 ::: 0.7341546143594937\n",
      "PCA:104 일 때, 설명 가능한 분산량 ::: 0.7389985562241559\n",
      "PCA:105 일 때, 설명 가능한 분산량 ::: 0.7427394988379064\n",
      "PCA:106 일 때, 설명 가능한 분산량 ::: 0.7474218944239023\n",
      "PCA:107 일 때, 설명 가능한 분산량 ::: 0.7514242525593635\n",
      "PCA:108 일 때, 설명 가능한 분산량 ::: 0.7558677214838779\n",
      "PCA:109 일 때, 설명 가능한 분산량 ::: 0.7602468998310465\n",
      "PCA:110 일 때, 설명 가능한 분산량 ::: 0.7642443719179234\n",
      "PCA:111 일 때, 설명 가능한 분산량 ::: 0.7687211358930758\n",
      "PCA:112 일 때, 설명 가능한 분산량 ::: 0.7727584997071617\n",
      "PCA:113 일 때, 설명 가능한 분산량 ::: 0.7767740207254177\n",
      "PCA:114 일 때, 설명 가능한 분산량 ::: 0.7808089822925\n",
      "PCA:115 일 때, 설명 가능한 분산량 ::: 0.7845909627581598\n",
      "PCA:116 일 때, 설명 가능한 분산량 ::: 0.7890010221330926\n",
      "PCA:117 일 때, 설명 가능한 분산량 ::: 0.7925392107923624\n",
      "PCA:118 일 때, 설명 가능한 분산량 ::: 0.7970799981608344\n",
      "PCA:119 일 때, 설명 가능한 분산량 ::: 0.7999478631053353\n",
      "PCA:120 일 때, 설명 가능한 분산량 ::: 0.8042879518868276\n",
      "PCA:121 일 때, 설명 가능한 분산량 ::: 0.8080816597470752\n",
      "PCA:122 일 때, 설명 가능한 분산량 ::: 0.8116491816920527\n",
      "PCA:123 일 때, 설명 가능한 분산량 ::: 0.81538637664824\n",
      "PCA:124 일 때, 설명 가능한 분산량 ::: 0.8194927489873475\n",
      "PCA:125 일 때, 설명 가능한 분산량 ::: 0.8229554702372333\n",
      "PCA:126 일 때, 설명 가능한 분산량 ::: 0.82630105923403\n",
      "PCA:127 일 때, 설명 가능한 분산량 ::: 0.8293466444134581\n",
      "PCA:128 일 때, 설명 가능한 분산량 ::: 0.8333313860323567\n",
      "PCA:129 일 때, 설명 가능한 분산량 ::: 0.8363722036630493\n",
      "PCA:130 일 때, 설명 가능한 분산량 ::: 0.8401746560059\n",
      "PCA:131 일 때, 설명 가능한 분산량 ::: 0.8436754246106499\n",
      "PCA:132 일 때, 설명 가능한 분산량 ::: 0.8470142233365142\n",
      "PCA:133 일 때, 설명 가능한 분산량 ::: 0.8502811826635087\n",
      "PCA:134 일 때, 설명 가능한 분산량 ::: 0.8533575639674267\n",
      "PCA:135 일 때, 설명 가능한 분산량 ::: 0.8570037599332618\n",
      "PCA:136 일 때, 설명 가능한 분산량 ::: 0.8602943645878326\n",
      "PCA:137 일 때, 설명 가능한 분산량 ::: 0.8635370683849751\n",
      "PCA:138 일 때, 설명 가능한 분산량 ::: 0.8668630606019062\n",
      "PCA:139 일 때, 설명 가능한 분산량 ::: 0.8698598773016616\n",
      "PCA:140 일 때, 설명 가능한 분산량 ::: 0.8732533219587106\n",
      "PCA:141 일 때, 설명 가능한 분산량 ::: 0.8759173168574952\n",
      "PCA:142 일 때, 설명 가능한 분산량 ::: 0.8791450620891442\n",
      "PCA:143 일 때, 설명 가능한 분산량 ::: 0.8820438206439387\n",
      "PCA:144 일 때, 설명 가능한 분산량 ::: 0.8854359797176724\n",
      "PCA:145 일 때, 설명 가능한 분산량 ::: 0.8880946917541263\n",
      "PCA:146 일 때, 설명 가능한 분산량 ::: 0.8912504366848142\n",
      "PCA:147 일 때, 설명 가능한 분산량 ::: 0.8938479996230022\n",
      "PCA:148 일 때, 설명 가능한 분산량 ::: 0.8969392190943118\n",
      "PCA:149 일 때, 설명 가능한 분산량 ::: 0.8992116762489817\n",
      "PCA:150 일 때, 설명 가능한 분산량 ::: 0.9023994497615269\n",
      "PCA:151 일 때, 설명 가능한 분산량 ::: 0.9051722410111335\n",
      "PCA:152 일 때, 설명 가능한 분산량 ::: 0.9080189615944076\n",
      "PCA:153 일 때, 설명 가능한 분산량 ::: 0.9106706380173676\n",
      "PCA:154 일 때, 설명 가능한 분산량 ::: 0.9130734494940463\n",
      "PCA:155 일 때, 설명 가능한 분산량 ::: 0.915935597289102\n",
      "PCA:156 일 때, 설명 가능한 분산량 ::: 0.9188077617308037\n",
      "PCA:157 일 때, 설명 가능한 분산량 ::: 0.9211534496482672\n",
      "PCA:158 일 때, 설명 가능한 분산량 ::: 0.9236975476979907\n",
      "PCA:159 일 때, 설명 가능한 분산량 ::: 0.9259827263400866\n",
      "PCA:160 일 때, 설명 가능한 분산량 ::: 0.9300074357453911\n",
      "PCA:161 일 때, 설명 가능한 분산량 ::: 0.9323800869070529\n",
      "PCA:162 일 때, 설명 가능한 분산량 ::: 0.9347323226566253\n",
      "PCA:163 일 때, 설명 가능한 분산량 ::: 0.9370379818498104\n",
      "PCA:164 일 때, 설명 가능한 분산량 ::: 0.9393310293284612\n"
     ]
    },
    {
     "name": "stdout",
     "output_type": "stream",
     "text": [
      "PCA:165 일 때, 설명 가능한 분산량 ::: 0.9415537170778706\n",
      "PCA:166 일 때, 설명 가능한 분산량 ::: 0.9437733397305943\n",
      "PCA:167 일 때, 설명 가능한 분산량 ::: 0.9459485940124572\n",
      "PCA:168 일 때, 설명 가능한 분산량 ::: 0.9480626799303901\n",
      "PCA:169 일 때, 설명 가능한 분산량 ::: 0.9501633453153392\n",
      "PCA:170 일 때, 설명 가능한 분산량 ::: 0.952251319670377\n",
      "PCA:171 일 때, 설명 가능한 분산량 ::: 0.9542865533319275\n",
      "PCA:172 일 때, 설명 가능한 분산량 ::: 0.9562936420102716\n",
      "PCA:173 일 때, 설명 가능한 분산량 ::: 0.9582723621935444\n",
      "PCA:174 일 때, 설명 가능한 분산량 ::: 0.9602313673750728\n",
      "PCA:175 일 때, 설명 가능한 분산량 ::: 0.9621860865430838\n",
      "PCA:176 일 때, 설명 가능한 분산량 ::: 0.9641122044090683\n",
      "PCA:177 일 때, 설명 가능한 분산량 ::: 0.9660092973022072\n",
      "PCA:178 일 때, 설명 가능한 분산량 ::: 0.9678803272210956\n",
      "PCA:179 일 때, 설명 가능한 분산량 ::: 0.9697256482154096\n",
      "PCA:180 일 때, 설명 가능한 분산량 ::: 0.9715449674580979\n",
      "PCA:181 일 때, 설명 가능한 분산량 ::: 0.9733316237502623\n",
      "PCA:182 일 때, 설명 가능한 분산량 ::: 0.9751012894684856\n",
      "PCA:183 일 때, 설명 가능한 분산량 ::: 0.9768187676898921\n",
      "PCA:184 일 때, 설명 가능한 분산량 ::: 0.9784860404210891\n",
      "PCA:185 일 때, 설명 가능한 분산량 ::: 0.9801473126238675\n",
      "PCA:186 일 때, 설명 가능한 분산량 ::: 0.9817815352312825\n",
      "PCA:187 일 때, 설명 가능한 분산량 ::: 0.983360323000799\n",
      "PCA:188 일 때, 설명 가능한 분산량 ::: 0.984918914940249\n",
      "PCA:189 일 때, 설명 가능한 분산량 ::: 0.986450669281133\n",
      "PCA:190 일 때, 설명 가능한 분산량 ::: 0.9879448431710716\n",
      "PCA:191 일 때, 설명 가능한 분산량 ::: 0.989408949354767\n",
      "PCA:192 일 때, 설명 가능한 분산량 ::: 0.99083385830605\n",
      "PCA:193 일 때, 설명 가능한 분산량 ::: 0.9922196801271188\n",
      "PCA:194 일 때, 설명 가능한 분산량 ::: 0.9935489951192843\n",
      "PCA:195 일 때, 설명 가능한 분산량 ::: 0.9948560972843289\n",
      "PCA:196 일 때, 설명 가능한 분산량 ::: 0.996094242661592\n",
      "PCA:197 일 때, 설명 가능한 분산량 ::: 0.9972759162606735\n",
      "PCA:198 일 때, 설명 가능한 분산량 ::: 0.9984357157981897\n",
      "PCA:199 일 때, 설명 가능한 분산량 ::: 0.9992377217857444\n"
     ]
    }
   ],
   "source": [
    "from sklearn.model_selection import train_test_split\n",
    "data_path = './data/Dataset1'\n",
    "X_train, X_test, y_train, y_test = make_dataset(data_path)"
   ]
  },
  {
   "cell_type": "code",
   "execution_count": 5,
   "id": "346f42f4",
   "metadata": {
    "scrolled": true
   },
   "outputs": [
    {
     "name": "stderr",
     "output_type": "stream",
     "text": [
      "[Parallel(n_jobs=1)]: Using backend SequentialBackend with 1 concurrent workers.\n"
     ]
    },
    {
     "name": "stdout",
     "output_type": "stream",
     "text": [
      "[0.9457142857142857]\n"
     ]
    },
    {
     "name": "stderr",
     "output_type": "stream",
     "text": [
      "[Parallel(n_jobs=1)]: Done 200 out of 200 | elapsed:   14.7s finished\n",
      "[Parallel(n_jobs=1)]: Using backend SequentialBackend with 1 concurrent workers.\n",
      "[Parallel(n_jobs=1)]: Done 200 out of 200 | elapsed:    0.0s finished\n"
     ]
    }
   ],
   "source": [
    "from sklearn.model_selection import train_test_split\n",
    "from sklearn.ensemble import RandomForestClassifier, ExtraTreesClassifier, GradientBoostingClassifier, AdaBoostClassifier\n",
    "from sklearn.tree import DecisionTreeClassifier\n",
    "epochs = 10\n",
    "model_list = [RandomForestClassifier]\n",
    "score_list = []\n",
    "for model in model_list:\n",
    "    clf = model(n_estimators=200, max_features=200, random_state=0, verbose=True).fit(X_train, y_train)\n",
    "    score_list.append(clf.score(X_test, y_test))\n",
    "\n",
    "print(score_list)"
   ]
  },
  {
   "cell_type": "code",
   "execution_count": 6,
   "id": "8e2ae6ad",
   "metadata": {},
   "outputs": [
    {
     "name": "stderr",
     "output_type": "stream",
     "text": [
      "[Parallel(n_jobs=1)]: Using backend SequentialBackend with 1 concurrent workers.\n"
     ]
    },
    {
     "name": "stdout",
     "output_type": "stream",
     "text": [
      "[0.9742857142857143]\n"
     ]
    },
    {
     "name": "stderr",
     "output_type": "stream",
     "text": [
      "[Parallel(n_jobs=1)]: Done 200 out of 200 | elapsed:    1.4s finished\n",
      "[Parallel(n_jobs=1)]: Using backend SequentialBackend with 1 concurrent workers.\n",
      "[Parallel(n_jobs=1)]: Done 200 out of 200 | elapsed:    0.0s finished\n"
     ]
    }
   ],
   "source": [
    "model_list = [ExtraTreesClassifier]\n",
    "score_list = []\n",
    "for model in model_list:\n",
    "    clf = model(n_estimators=200, max_features=200, random_state=0, verbose=True).fit(X_train, y_train)\n",
    "    score_list.append(clf.score(X_test, y_test))\n",
    "\n",
    "print(score_list)"
   ]
  },
  {
   "cell_type": "code",
   "execution_count": 9,
   "id": "f629e376",
   "metadata": {
    "scrolled": true
   },
   "outputs": [
    {
     "name": "stdout",
     "output_type": "stream",
     "text": [
      "      Iter       Train Loss   Remaining Time \n",
      "         1           1.0727            8.48s\n",
      "         2           0.9776            6.57s\n",
      "         3           0.9040            5.78s\n",
      "         4           0.8194            5.40s\n",
      "         5           0.7482            5.20s\n",
      "         6           0.6892            5.06s\n",
      "         7           0.6382            4.95s\n",
      "         8           0.6029            4.89s\n",
      "         9           0.5621            4.84s\n",
      "        10           0.5351            4.81s\n",
      "        20           0.3200            4.38s\n",
      "        30           0.2131            4.11s\n",
      "        40           0.1600            3.84s\n",
      "        50           0.1279            3.59s\n",
      "        60           0.1076            3.35s\n",
      "        70           0.0920            3.10s\n",
      "        80           0.0780            2.85s\n",
      "        90           0.0678            2.61s\n",
      "       100           0.0593            2.37s\n",
      "       200           0.0163            0.00s\n",
      "[0.98]\n"
     ]
    }
   ],
   "source": [
    "model_list = [GradientBoostingClassifier]\n",
    "score_list = []\n",
    "score = 0\n",
    "for model in model_list:\n",
    "    clf = model(n_estimators=200, max_features=200, random_state=0, criterion='squared_error', verbose=True).fit(X_train, y_train)\n",
    "    score = clf.score(X_test, y_test)\n",
    "    score_list.append(score)\n",
    "print(score_list)"
   ]
  },
  {
   "cell_type": "code",
   "execution_count": null,
   "id": "91300ce2",
   "metadata": {},
   "outputs": [],
   "source": []
  },
  {
   "cell_type": "code",
   "execution_count": null,
   "id": "7e56b847",
   "metadata": {},
   "outputs": [],
   "source": []
  }
 ],
 "metadata": {
  "kernelspec": {
   "display_name": "Python 3",
   "language": "python",
   "name": "python3"
  },
  "language_info": {
   "codemirror_mode": {
    "name": "ipython",
    "version": 3
   },
   "file_extension": ".py",
   "mimetype": "text/x-python",
   "name": "python",
   "nbconvert_exporter": "python",
   "pygments_lexer": "ipython3",
   "version": "3.8.5"
  }
 },
 "nbformat": 4,
 "nbformat_minor": 5
}
